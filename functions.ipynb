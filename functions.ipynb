{
 "cells": [
  {
   "cell_type": "code",
   "execution_count": 18,
   "metadata": {},
   "outputs": [],
   "source": [
    "import requests\n",
    "import pandas as pd\n",
    "import json"
   ]
  },
  {
   "cell_type": "code",
   "execution_count": 19,
   "metadata": {},
   "outputs": [],
   "source": [
    "def get_api(base_url=\"https://zucwflxqsxrsmwseehqvjmnx2u0cdigp.lambda-url.ap-south-1.on.aws\",end_point=\"/mentorskool/v1/sales?offset=0&limit=100\",headers={\"access_token\":\"fe66583bfe5185048c66571293e0d358\"}):\n",
    "    \"\"\"\n",
    "    This function loops through the api to fetch all the records and return it in a list.This function takes all types of errors into account.\n",
    "    :param base_url:Base url of the api\n",
    "           endpoint:endpoint for fetching the record from that page\n",
    "           headers: contains the access token for authorization\n",
    "    :return: A list conatining all the data\n",
    "    \"\"\"\n",
    "    final_list=[]\n",
    "    for i in range(5):\n",
    "        try:\n",
    "\n",
    "            response = requests.get(base_url+end_point,headers=headers)\n",
    "\n",
    "            response_data = response.json()\n",
    "            data=response_data['data']\n",
    "            final_list.extend(data)\n",
    "            end_point= response_data['next']\n",
    "        except requests.exceptions.HTTPError as http_err:\n",
    "            print(f\"HTTPError:\",{http_err})\n",
    "        except Exception as err:\n",
    "            print(f\"Error:\", {err})\n",
    "    return final_list"
   ]
  },
  {
   "cell_type": "code",
   "execution_count": 15,
   "metadata": {},
   "outputs": [],
   "source": [
    "whole_list = get_api()"
   ]
  },
  {
   "cell_type": "code",
   "execution_count": 80,
   "metadata": {},
   "outputs": [],
   "source": [
    "sales_df = pd.json_normalize(whole_list)"
   ]
  },
  {
   "cell_type": "code",
   "execution_count": 27,
   "metadata": {},
   "outputs": [
    {
     "data": {
      "text/plain": [
       "id                                       int64\n",
       "sales_amt                              float64\n",
       "qty                                      int64\n",
       "discount                               float64\n",
       "profit_amt                              object\n",
       "order.order_id                          object\n",
       "order.ship_mode                         object\n",
       "order.order_status                      object\n",
       "order.order_purchase_date               object\n",
       "order.order_approved_at                 object\n",
       "order.order_delivered_carrier_date      object\n",
       "order.order_delivered_customer_date     object\n",
       "order.order_estimated_delivery_date     object\n",
       "order.customer.customer_id              object\n",
       "order.customer.customer_name            object\n",
       "order.customer.segment                  object\n",
       "order.customer.contact_number           object\n",
       "order.customer.address.zip_code          int64\n",
       "order.customer.address.region           object\n",
       "order.customer.address.country          object\n",
       "order.customer.address.city             object\n",
       "order.customer.address.state            object\n",
       "order.vendor.VendorID                   object\n",
       "order.vendor.Vendor Name                object\n",
       "product.product_id                      object\n",
       "product.product_name                    object\n",
       "product.colors                          object\n",
       "product.category                        object\n",
       "product.sub_category                    object\n",
       "product.date_added                      object\n",
       "product.manufacturer                    object\n",
       "product.sizes                           object\n",
       "product.upc                             object\n",
       "product.weight                          object\n",
       "product.product_photos_qty               int64\n",
       "dtype: object"
      ]
     },
     "execution_count": 27,
     "metadata": {},
     "output_type": "execute_result"
    }
   ],
   "source": [
    "sales_df.dtypes"
   ]
  },
  {
   "cell_type": "code",
   "execution_count": 81,
   "metadata": {},
   "outputs": [
    {
     "data": {
      "text/plain": [
       "id                                       0\n",
       "sales_amt                                0\n",
       "qty                                      0\n",
       "discount                                 0\n",
       "profit_amt                               1\n",
       "order.order_id                           0\n",
       "order.ship_mode                          0\n",
       "order.order_status                       0\n",
       "order.order_purchase_date                0\n",
       "order.order_approved_at                  2\n",
       "order.order_delivered_carrier_date       7\n",
       "order.order_delivered_customer_date     12\n",
       "order.order_estimated_delivery_date      2\n",
       "order.customer.customer_id               0\n",
       "order.customer.customer_name             0\n",
       "order.customer.segment                   0\n",
       "order.customer.contact_number            0\n",
       "order.customer.address.zip_code          0\n",
       "order.customer.address.region            0\n",
       "order.customer.address.country           0\n",
       "order.customer.address.city              0\n",
       "order.customer.address.state             0\n",
       "order.vendor.VendorID                    0\n",
       "order.vendor.Vendor Name                 0\n",
       "product.product_id                       0\n",
       "product.product_name                     0\n",
       "product.colors                           0\n",
       "product.category                         0\n",
       "product.sub_category                     0\n",
       "product.date_added                       0\n",
       "product.manufacturer                   297\n",
       "product.sizes                          339\n",
       "product.upc                            200\n",
       "product.weight                         467\n",
       "product.product_photos_qty               0\n",
       "dtype: int64"
      ]
     },
     "execution_count": 81,
     "metadata": {},
     "output_type": "execute_result"
    }
   ],
   "source": [
    "sales_df.replace('null',None,inplace=True)\n",
    "sales_df.isnull().sum()"
   ]
  },
  {
   "cell_type": "code",
   "execution_count": 82,
   "metadata": {},
   "outputs": [],
   "source": [
    "sales_df['order.order_purchase_date']=pd.to_datetime(sales_df['order.order_purchase_date'])\n",
    "sales_df['order.order_approved_at']=pd.to_datetime(sales_df['order.order_approved_at'])\n",
    "sales_df['order.order_delivered_carrier_date']=pd.to_datetime(sales_df['order.order_delivered_carrier_date'])\n",
    "sales_df['order.order_delivered_customer_date']=pd.to_datetime(sales_df['order.order_delivered_customer_date'])\n",
    "sales_df['order.order_estimated_delivery_date']=pd.to_datetime(sales_df['order.order_estimated_delivery_date'])"
   ]
  },
  {
   "cell_type": "code",
   "execution_count": 34,
   "metadata": {},
   "outputs": [
    {
     "data": {
      "text/plain": [
       "Index(['id', 'sales_amt', 'qty', 'discount', 'profit_amt', 'order.order_id',\n",
       "       'order.ship_mode', 'order.order_status', 'order.order_purchase_date',\n",
       "       'order.order_approved_at', 'order.order_delivered_carrier_date',\n",
       "       'order.order_delivered_customer_date',\n",
       "       'order.order_estimated_delivery_date', 'order.customer.customer_id',\n",
       "       'order.customer.customer_name', 'order.customer.segment',\n",
       "       'order.customer.contact_number', 'order.customer.address.zip_code',\n",
       "       'order.customer.address.region', 'order.customer.address.country',\n",
       "       'order.customer.address.city', 'order.customer.address.state',\n",
       "       'order.vendor.VendorID', 'order.vendor.Vendor Name',\n",
       "       'product.product_id', 'product.product_name', 'product.colors',\n",
       "       'product.category', 'product.sub_category', 'product.date_added',\n",
       "       'product.manufacturer', 'product.sizes', 'product.upc',\n",
       "       'product.weight', 'product.product_photos_qty'],\n",
       "      dtype='object')"
      ]
     },
     "execution_count": 34,
     "metadata": {},
     "output_type": "execute_result"
    }
   ],
   "source": [
    "sales_df.columns"
   ]
  },
  {
   "cell_type": "code",
   "execution_count": 92,
   "metadata": {},
   "outputs": [],
   "source": [
    "def product_size(df,product):\n",
    "    product_sizes= df[df['product.product_name']==product]['product.sizes'].unique()\n",
    "    return product_sizes"
   ]
  },
  {
   "cell_type": "code",
   "execution_count": 110,
   "metadata": {},
   "outputs": [
    {
     "data": {
      "text/plain": [
       "array([None], dtype=object)"
      ]
     },
     "execution_count": 110,
     "metadata": {},
     "output_type": "execute_result"
    }
   ],
   "source": [
    "a = product_size(sales_df,'Mitel 5320 IP Phone VoIP phone')\n",
    "a"
   ]
  }
 ],
 "metadata": {
  "kernelspec": {
   "display_name": "Python 3",
   "language": "python",
   "name": "python3"
  },
  "language_info": {
   "codemirror_mode": {
    "name": "ipython",
    "version": 3
   },
   "file_extension": ".py",
   "mimetype": "text/x-python",
   "name": "python",
   "nbconvert_exporter": "python",
   "pygments_lexer": "ipython3",
   "version": "3.10.6"
  },
  "orig_nbformat": 4
 },
 "nbformat": 4,
 "nbformat_minor": 2
}

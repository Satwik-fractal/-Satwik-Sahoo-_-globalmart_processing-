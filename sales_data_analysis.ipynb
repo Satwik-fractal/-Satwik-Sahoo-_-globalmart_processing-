{
 "cells": [
  {
   "cell_type": "code",
   "execution_count": 1,
   "metadata": {},
   "outputs": [],
   "source": [
    "import requests\n",
    "import pandas as pd\n",
    "import json"
   ]
  },
  {
   "cell_type": "code",
   "execution_count": 2,
   "metadata": {},
   "outputs": [],
   "source": [
    "base_url = \"https://zucwflxqsxrsmwseehqvjmnx2u0cdigp.lambda-url.ap-south-1.on.aws\"\n",
    "end_point=\"/mentorskool/v1/sales?offset=0&limit=100\"\n",
    "final_list=[]\n",
    "limit=100\n"
   ]
  },
  {
   "cell_type": "code",
   "execution_count": 3,
   "metadata": {},
   "outputs": [],
   "source": [
    "for page in range(5):\n",
    "    try:\n",
    "\n",
    "        response = requests.get(base_url+end_point,headers={\"access_token\":\"fe66583bfe5185048c66571293e0d358\"})\n",
    "\n",
    "        response_data = response.json()\n",
    "        data=response_data['data']\n",
    "        final_list.extend(data)\n",
    "        end_point= response_data['next']\n",
    "    except requests.exceptions.HTTPError as http_err:\n",
    "        print(f\"HTTPError:\",{http_err})\n",
    "    except Exception as err:\n",
    "        print(f\"Error:\", {err})"
   ]
  },
  {
   "cell_type": "code",
   "execution_count": 4,
   "metadata": {},
   "outputs": [
    {
     "data": {
      "text/plain": [
       "500"
      ]
     },
     "execution_count": 4,
     "metadata": {},
     "output_type": "execute_result"
    }
   ],
   "source": [
    "len(final_list)"
   ]
  },
  {
   "cell_type": "code",
   "execution_count": 5,
   "metadata": {},
   "outputs": [],
   "source": [
    "api_df=pd.json_normalize(final_list)"
   ]
  },
  {
   "cell_type": "code",
   "execution_count": 6,
   "metadata": {},
   "outputs": [
    {
     "data": {
      "text/plain": [
       "Index(['id', 'sales_amt', 'qty', 'discount', 'profit_amt', 'order.order_id',\n",
       "       'order.ship_mode', 'order.order_status', 'order.order_purchase_date',\n",
       "       'order.order_approved_at', 'order.order_delivered_carrier_date',\n",
       "       'order.order_delivered_customer_date',\n",
       "       'order.order_estimated_delivery_date', 'order.customer.customer_id',\n",
       "       'order.customer.customer_name', 'order.customer.segment',\n",
       "       'order.customer.contact_number', 'order.customer.address.zip_code',\n",
       "       'order.customer.address.region', 'order.customer.address.country',\n",
       "       'order.customer.address.city', 'order.customer.address.state',\n",
       "       'order.vendor.VendorID', 'order.vendor.Vendor Name',\n",
       "       'product.product_id', 'product.product_name', 'product.colors',\n",
       "       'product.category', 'product.sub_category', 'product.date_added',\n",
       "       'product.manufacturer', 'product.sizes', 'product.upc',\n",
       "       'product.weight', 'product.product_photos_qty'],\n",
       "      dtype='object')"
      ]
     },
     "execution_count": 6,
     "metadata": {},
     "output_type": "execute_result"
    }
   ],
   "source": [
    "api_df.columns"
   ]
  },
  {
   "cell_type": "code",
   "execution_count": 7,
   "metadata": {},
   "outputs": [],
   "source": [
    "api_df2 = api_df[['id','sales_amt','qty','discount','order.order_id','order.order_purchase_date','order.order_status','order.order_delivered_customer_date','order.order_estimated_delivery_date','product.product_id','product.colors','product.category','order.customer.customer_id','order.customer.customer_name','order.vendor.VendorID']]"
   ]
  },
  {
   "cell_type": "code",
   "execution_count": 8,
   "metadata": {},
   "outputs": [],
   "source": [
    "api_df2.columns= ['id','sales_amt','qty','discount','order_id','order_purchase_date','order_status','order_delivered_customer_date','order_estimated_delivery_date','product_id','colors','category','customer_id','customer_name','VendorID']"
   ]
  },
  {
   "cell_type": "code",
   "execution_count": 9,
   "metadata": {},
   "outputs": [
    {
     "data": {
      "text/html": [
       "<div>\n",
       "<style scoped>\n",
       "    .dataframe tbody tr th:only-of-type {\n",
       "        vertical-align: middle;\n",
       "    }\n",
       "\n",
       "    .dataframe tbody tr th {\n",
       "        vertical-align: top;\n",
       "    }\n",
       "\n",
       "    .dataframe thead th {\n",
       "        text-align: right;\n",
       "    }\n",
       "</style>\n",
       "<table border=\"1\" class=\"dataframe\">\n",
       "  <thead>\n",
       "    <tr style=\"text-align: right;\">\n",
       "      <th></th>\n",
       "      <th>id</th>\n",
       "      <th>sales_amt</th>\n",
       "      <th>qty</th>\n",
       "      <th>discount</th>\n",
       "      <th>order_id</th>\n",
       "      <th>order_purchase_date</th>\n",
       "      <th>order_status</th>\n",
       "      <th>order_delivered_customer_date</th>\n",
       "      <th>order_estimated_delivery_date</th>\n",
       "      <th>product_id</th>\n",
       "      <th>colors</th>\n",
       "      <th>category</th>\n",
       "      <th>customer_id</th>\n",
       "      <th>customer_name</th>\n",
       "      <th>VendorID</th>\n",
       "    </tr>\n",
       "  </thead>\n",
       "  <tbody>\n",
       "    <tr>\n",
       "      <th>0</th>\n",
       "      <td>4102</td>\n",
       "      <td>2.0000</td>\n",
       "      <td>0</td>\n",
       "      <td>72.948</td>\n",
       "      <td>US-2017-102288</td>\n",
       "      <td>2017-11-24 15:58:00</td>\n",
       "      <td>delivered</td>\n",
       "      <td>2017-12-15 14:58</td>\n",
       "      <td>2017-12-21</td>\n",
       "      <td>OFF-AP-10002684</td>\n",
       "      <td>Blue</td>\n",
       "      <td>Office Supplies</td>\n",
       "      <td>ZC-21910</td>\n",
       "      <td>Zuschuss Carroll</td>\n",
       "      <td>VEN04</td>\n",
       "    </tr>\n",
       "    <tr>\n",
       "      <th>1</th>\n",
       "      <td>2698</td>\n",
       "      <td>261.9600</td>\n",
       "      <td>2</td>\n",
       "      <td>0.000</td>\n",
       "      <td>CA-2014-145317</td>\n",
       "      <td>2018-07-11 19:46:00</td>\n",
       "      <td>delivered</td>\n",
       "      <td>2018-07-24 14:58</td>\n",
       "      <td>2018-07-27</td>\n",
       "      <td>FUR-BO-10001798</td>\n",
       "      <td>Pink</td>\n",
       "      <td>Furniture</td>\n",
       "      <td>SM-20320</td>\n",
       "      <td>Sean Miller</td>\n",
       "      <td>VEN03</td>\n",
       "    </tr>\n",
       "    <tr>\n",
       "      <th>2</th>\n",
       "      <td>6827</td>\n",
       "      <td>731.9400</td>\n",
       "      <td>3</td>\n",
       "      <td>0.000</td>\n",
       "      <td>CA-2016-118689</td>\n",
       "      <td>2018-05-15 20:24:00</td>\n",
       "      <td>delivered</td>\n",
       "      <td>2018-06-04 14:42</td>\n",
       "      <td>2018-06-18</td>\n",
       "      <td>FUR-CH-10000454</td>\n",
       "      <td>Pink</td>\n",
       "      <td>Furniture</td>\n",
       "      <td>TC-20980</td>\n",
       "      <td>Tamara Chand</td>\n",
       "      <td>VEN01</td>\n",
       "    </tr>\n",
       "    <tr>\n",
       "      <th>3</th>\n",
       "      <td>8154</td>\n",
       "      <td>14.6200</td>\n",
       "      <td>2</td>\n",
       "      <td>0.000</td>\n",
       "      <td>CA-2017-140151</td>\n",
       "      <td>2018-02-28 13:40:00</td>\n",
       "      <td>delivered</td>\n",
       "      <td>2018-04-03 23:31</td>\n",
       "      <td>2018-03-28</td>\n",
       "      <td>OFF-LA-10000240</td>\n",
       "      <td>Pink</td>\n",
       "      <td>Office Supplies</td>\n",
       "      <td>RB-19360</td>\n",
       "      <td>Raymond Buch</td>\n",
       "      <td>VEN02</td>\n",
       "    </tr>\n",
       "    <tr>\n",
       "      <th>4</th>\n",
       "      <td>2624</td>\n",
       "      <td>957.5775</td>\n",
       "      <td>5</td>\n",
       "      <td>0.450</td>\n",
       "      <td>CA-2017-127180</td>\n",
       "      <td>2018-01-07 21:45:00</td>\n",
       "      <td>delivered</td>\n",
       "      <td>2018-01-30 20:51</td>\n",
       "      <td>2018-02-07</td>\n",
       "      <td>FUR-TA-10000577</td>\n",
       "      <td>Blue</td>\n",
       "      <td>Furniture</td>\n",
       "      <td>TA-21385</td>\n",
       "      <td>Tom Ashbrook</td>\n",
       "      <td>VEN01</td>\n",
       "    </tr>\n",
       "  </tbody>\n",
       "</table>\n",
       "</div>"
      ],
      "text/plain": [
       "     id  sales_amt  qty  discount        order_id  order_purchase_date  \\\n",
       "0  4102     2.0000    0    72.948  US-2017-102288  2017-11-24 15:58:00   \n",
       "1  2698   261.9600    2     0.000  CA-2014-145317  2018-07-11 19:46:00   \n",
       "2  6827   731.9400    3     0.000  CA-2016-118689  2018-05-15 20:24:00   \n",
       "3  8154    14.6200    2     0.000  CA-2017-140151  2018-02-28 13:40:00   \n",
       "4  2624   957.5775    5     0.450  CA-2017-127180  2018-01-07 21:45:00   \n",
       "\n",
       "  order_status order_delivered_customer_date order_estimated_delivery_date  \\\n",
       "0    delivered              2017-12-15 14:58                    2017-12-21   \n",
       "1    delivered              2018-07-24 14:58                    2018-07-27   \n",
       "2    delivered              2018-06-04 14:42                    2018-06-18   \n",
       "3    delivered              2018-04-03 23:31                    2018-03-28   \n",
       "4    delivered              2018-01-30 20:51                    2018-02-07   \n",
       "\n",
       "        product_id colors         category customer_id     customer_name  \\\n",
       "0  OFF-AP-10002684   Blue  Office Supplies    ZC-21910  Zuschuss Carroll   \n",
       "1  FUR-BO-10001798   Pink        Furniture    SM-20320       Sean Miller   \n",
       "2  FUR-CH-10000454   Pink        Furniture    TC-20980      Tamara Chand   \n",
       "3  OFF-LA-10000240   Pink  Office Supplies    RB-19360      Raymond Buch   \n",
       "4  FUR-TA-10000577   Blue        Furniture    TA-21385      Tom Ashbrook   \n",
       "\n",
       "  VendorID  \n",
       "0    VEN04  \n",
       "1    VEN03  \n",
       "2    VEN01  \n",
       "3    VEN02  \n",
       "4    VEN01  "
      ]
     },
     "execution_count": 9,
     "metadata": {},
     "output_type": "execute_result"
    }
   ],
   "source": [
    "api_df2.head()"
   ]
  },
  {
   "cell_type": "code",
   "execution_count": 10,
   "metadata": {},
   "outputs": [
    {
     "name": "stderr",
     "output_type": "stream",
     "text": [
      "C:\\Users\\Administrator\\AppData\\Local\\Temp\\2\\ipykernel_7132\\2088673528.py:1: SettingWithCopyWarning: \n",
      "A value is trying to be set on a copy of a slice from a DataFrame\n",
      "\n",
      "See the caveats in the documentation: https://pandas.pydata.org/pandas-docs/stable/user_guide/indexing.html#returning-a-view-versus-a-copy\n",
      "  api_df2.replace('null',None,inplace=True)\n"
     ]
    },
    {
     "data": {
      "text/plain": [
       "id                                0\n",
       "sales_amt                         0\n",
       "qty                               0\n",
       "discount                          0\n",
       "order_id                          0\n",
       "order_purchase_date               0\n",
       "order_status                      0\n",
       "order_delivered_customer_date    12\n",
       "order_estimated_delivery_date     2\n",
       "product_id                        0\n",
       "colors                            0\n",
       "category                          0\n",
       "customer_id                       0\n",
       "customer_name                     0\n",
       "VendorID                          0\n",
       "dtype: int64"
      ]
     },
     "execution_count": 10,
     "metadata": {},
     "output_type": "execute_result"
    }
   ],
   "source": [
    "api_df2.replace('null',None,inplace=True)\n",
    "api_df2.isnull().sum()"
   ]
  },
  {
   "cell_type": "code",
   "execution_count": 11,
   "metadata": {},
   "outputs": [
    {
     "data": {
      "text/plain": [
       "0"
      ]
     },
     "execution_count": 11,
     "metadata": {},
     "output_type": "execute_result"
    }
   ],
   "source": [
    "api_df2.duplicated().sum()"
   ]
  },
  {
   "cell_type": "markdown",
   "metadata": {},
   "source": [
    "1.How many orders are late delivered to the customers?"
   ]
  },
  {
   "cell_type": "code",
   "execution_count": 12,
   "metadata": {},
   "outputs": [
    {
     "name": "stderr",
     "output_type": "stream",
     "text": [
      "C:\\Users\\Administrator\\AppData\\Local\\Temp\\2\\ipykernel_7132\\4159917146.py:1: SettingWithCopyWarning: \n",
      "A value is trying to be set on a copy of a slice from a DataFrame.\n",
      "Try using .loc[row_indexer,col_indexer] = value instead\n",
      "\n",
      "See the caveats in the documentation: https://pandas.pydata.org/pandas-docs/stable/user_guide/indexing.html#returning-a-view-versus-a-copy\n",
      "  api_df2['order_delivered_customer_date']=pd.to_datetime(api_df2['order_delivered_customer_date'])\n",
      "C:\\Users\\Administrator\\AppData\\Local\\Temp\\2\\ipykernel_7132\\4159917146.py:2: SettingWithCopyWarning: \n",
      "A value is trying to be set on a copy of a slice from a DataFrame.\n",
      "Try using .loc[row_indexer,col_indexer] = value instead\n",
      "\n",
      "See the caveats in the documentation: https://pandas.pydata.org/pandas-docs/stable/user_guide/indexing.html#returning-a-view-versus-a-copy\n",
      "  api_df2['order_estimated_delivery_date']=pd.to_datetime(api_df2['order_estimated_delivery_date'])\n"
     ]
    }
   ],
   "source": [
    "api_df2['order_delivered_customer_date']=pd.to_datetime(api_df2['order_delivered_customer_date'])\n",
    "api_df2['order_estimated_delivery_date']=pd.to_datetime(api_df2['order_estimated_delivery_date'])"
   ]
  },
  {
   "cell_type": "code",
   "execution_count": 13,
   "metadata": {},
   "outputs": [
    {
     "data": {
      "text/plain": [
       "36"
      ]
     },
     "execution_count": 13,
     "metadata": {},
     "output_type": "execute_result"
    }
   ],
   "source": [
    "late_delivered_count = (api_df2['order_delivered_customer_date']>api_df2['order_estimated_delivery_date']).sum()\n",
    "late_delivered_count"
   ]
  },
  {
   "cell_type": "markdown",
   "metadata": {},
   "source": [
    "2.Which vendors lead to the highest delay in deliveries?"
   ]
  },
  {
   "cell_type": "code",
   "execution_count": 14,
   "metadata": {},
   "outputs": [
    {
     "name": "stderr",
     "output_type": "stream",
     "text": [
      "C:\\Users\\Administrator\\AppData\\Local\\Temp\\2\\ipykernel_7132\\1397102400.py:1: SettingWithCopyWarning: \n",
      "A value is trying to be set on a copy of a slice from a DataFrame.\n",
      "Try using .loc[row_indexer,col_indexer] = value instead\n",
      "\n",
      "See the caveats in the documentation: https://pandas.pydata.org/pandas-docs/stable/user_guide/indexing.html#returning-a-view-versus-a-copy\n",
      "  api_df2['delay']=  api_df2['order_delivered_customer_date']-api_df2['order_estimated_delivery_date']\n"
     ]
    },
    {
     "data": {
      "text/plain": [
       "VendorID\n",
       "VEN01   -12 days +16:55:35.862068966\n",
       "VEN02   -12 days +14:06:53.394495413\n",
       "VEN03   -10 days +05:48:56.538461539\n",
       "VEN04   -12 days +12:22:04.772727273\n",
       "VEN05      -12 days +08:11:04.200000\n",
       "Name: delay, dtype: timedelta64[ns]"
      ]
     },
     "execution_count": 14,
     "metadata": {},
     "output_type": "execute_result"
    }
   ],
   "source": [
    "api_df2['delay']=  api_df2['order_delivered_customer_date']-api_df2['order_estimated_delivery_date']\n",
    "avg_delay_per_vendor = api_df2.groupby('VendorID')['delay'].mean()\n",
    "avg_delay_per_vendor"
   ]
  },
  {
   "cell_type": "code",
   "execution_count": 15,
   "metadata": {},
   "outputs": [
    {
     "name": "stdout",
     "output_type": "stream",
     "text": [
      "highest delayed vendor: VEN05\n"
     ]
    }
   ],
   "source": [
    "print('highest delayed vendor:',avg_delay_per_vendor.idxmin())"
   ]
  },
  {
   "cell_type": "markdown",
   "metadata": {},
   "source": [
    "3.How many orders got canceled by the users?"
   ]
  },
  {
   "cell_type": "code",
   "execution_count": 16,
   "metadata": {},
   "outputs": [
    {
     "data": {
      "text/plain": [
       "3"
      ]
     },
     "execution_count": 16,
     "metadata": {},
     "output_type": "execute_result"
    }
   ],
   "source": [
    "canceled_order_count= (api_df2['order_status']=='canceled').sum()\n",
    "canceled_order_count"
   ]
  },
  {
   "cell_type": "markdown",
   "metadata": {},
   "source": [
    "4.Which category has the highest sales?"
   ]
  },
  {
   "cell_type": "code",
   "execution_count": 17,
   "metadata": {},
   "outputs": [
    {
     "name": "stdout",
     "output_type": "stream",
     "text": [
      "highest selling category: Technology\n"
     ]
    }
   ],
   "source": [
    "category_sales= api_df2.groupby('category')['sales_amt'].sum()\n",
    "print('highest selling category:',category_sales.idxmax())"
   ]
  },
  {
   "cell_type": "markdown",
   "metadata": {},
   "source": [
    "5.In which month were the sales highest?"
   ]
  },
  {
   "cell_type": "code",
   "execution_count": 18,
   "metadata": {},
   "outputs": [
    {
     "name": "stderr",
     "output_type": "stream",
     "text": [
      "C:\\Users\\Administrator\\AppData\\Local\\Temp\\2\\ipykernel_7132\\4072332972.py:1: SettingWithCopyWarning: \n",
      "A value is trying to be set on a copy of a slice from a DataFrame.\n",
      "Try using .loc[row_indexer,col_indexer] = value instead\n",
      "\n",
      "See the caveats in the documentation: https://pandas.pydata.org/pandas-docs/stable/user_guide/indexing.html#returning-a-view-versus-a-copy\n",
      "  api_df2['order_purchase_date']= pd.to_datetime(api_df2['order_purchase_date'])\n"
     ]
    }
   ],
   "source": [
    "api_df2['order_purchase_date']= pd.to_datetime(api_df2['order_purchase_date'])"
   ]
  },
  {
   "cell_type": "code",
   "execution_count": 19,
   "metadata": {},
   "outputs": [
    {
     "name": "stdout",
     "output_type": "stream",
     "text": [
      "highest sale by month: 5\n"
     ]
    },
    {
     "name": "stderr",
     "output_type": "stream",
     "text": [
      "C:\\Users\\Administrator\\AppData\\Local\\Temp\\2\\ipykernel_7132\\4227995352.py:1: SettingWithCopyWarning: \n",
      "A value is trying to be set on a copy of a slice from a DataFrame.\n",
      "Try using .loc[row_indexer,col_indexer] = value instead\n",
      "\n",
      "See the caveats in the documentation: https://pandas.pydata.org/pandas-docs/stable/user_guide/indexing.html#returning-a-view-versus-a-copy\n",
      "  api_df2['month']= api_df2['order_purchase_date'].dt.month\n"
     ]
    }
   ],
   "source": [
    "api_df2['month']= api_df2['order_purchase_date'].dt.month\n",
    "monthly_sales=api_df2.groupby('month')['sales_amt'].sum()\n",
    "print('highest sale by month:',monthly_sales.idxmax() )"
   ]
  },
  {
   "cell_type": "markdown",
   "metadata": {},
   "source": [
    "6.Are sales higher on weekends or weekdays?"
   ]
  },
  {
   "cell_type": "code",
   "execution_count": 20,
   "metadata": {},
   "outputs": [
    {
     "name": "stderr",
     "output_type": "stream",
     "text": [
      "C:\\Users\\Administrator\\AppData\\Local\\Temp\\2\\ipykernel_7132\\2810320956.py:1: SettingWithCopyWarning: \n",
      "A value is trying to be set on a copy of a slice from a DataFrame.\n",
      "Try using .loc[row_indexer,col_indexer] = value instead\n",
      "\n",
      "See the caveats in the documentation: https://pandas.pydata.org/pandas-docs/stable/user_guide/indexing.html#returning-a-view-versus-a-copy\n",
      "  api_df2['day_of_order'] = api_df2['order_purchase_date'].dt.dayofweek\n"
     ]
    }
   ],
   "source": [
    "api_df2['day_of_order'] = api_df2['order_purchase_date'].dt.dayofweek"
   ]
  },
  {
   "cell_type": "code",
   "execution_count": 25,
   "metadata": {},
   "outputs": [
    {
     "name": "stderr",
     "output_type": "stream",
     "text": [
      "C:\\Users\\Administrator\\AppData\\Local\\Temp\\2\\ipykernel_7132\\3934898408.py:1: SettingWithCopyWarning: \n",
      "A value is trying to be set on a copy of a slice from a DataFrame.\n",
      "Try using .loc[row_indexer,col_indexer] = value instead\n",
      "\n",
      "See the caveats in the documentation: https://pandas.pydata.org/pandas-docs/stable/user_guide/indexing.html#returning-a-view-versus-a-copy\n",
      "  api_df2['day_label'] = api_df2['day_of_order'].apply(lambda day:'weekend' if (day==5) or (day==6) else 'weekday')\n"
     ]
    }
   ],
   "source": [
    "api_df2['day_label'] = api_df2['day_of_order'].apply(lambda day:'weekend' if (day==5) or (day==6) else 'weekday')"
   ]
  },
  {
   "cell_type": "code",
   "execution_count": 27,
   "metadata": {},
   "outputs": [
    {
     "name": "stdout",
     "output_type": "stream",
     "text": [
      "highest sales on: weekday\n"
     ]
    }
   ],
   "source": [
    "day_label_sales = api_df2.groupby('day_label')['sales_amt'].sum()\n",
    "print('highest sales on:', day_label_sales.idxmax())"
   ]
  },
  {
   "cell_type": "code",
   "execution_count": 31,
   "metadata": {},
   "outputs": [
    {
     "data": {
      "text/plain": [
       "98"
      ]
     },
     "execution_count": 31,
     "metadata": {},
     "output_type": "execute_result"
    }
   ],
   "source": [
    "weekend_order_count = api_df2[api_df2['day_label']=='weekend'].shape[0]\n",
    "weekend_order_count"
   ]
  }
 ],
 "metadata": {
  "kernelspec": {
   "display_name": "Python 3",
   "language": "python",
   "name": "python3"
  },
  "language_info": {
   "codemirror_mode": {
    "name": "ipython",
    "version": 3
   },
   "file_extension": ".py",
   "mimetype": "text/x-python",
   "name": "python",
   "nbconvert_exporter": "python",
   "pygments_lexer": "ipython3",
   "version": "3.10.6"
  },
  "orig_nbformat": 4
 },
 "nbformat": 4,
 "nbformat_minor": 2
}
